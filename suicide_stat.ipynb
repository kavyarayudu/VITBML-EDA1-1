{
  "nbformat": 4,
  "nbformat_minor": 0,
  "metadata": {
    "colab": {
      "name": "suicide stat",
      "provenance": [],
      "authorship_tag": "ABX9TyPaXmd3kRxK+LrCi4lkCbr3",
      "include_colab_link": true
    },
    "kernelspec": {
      "name": "python3",
      "display_name": "Python 3"
    }
  },
  "cells": [
    {
      "cell_type": "markdown",
      "metadata": {
        "id": "view-in-github",
        "colab_type": "text"
      },
      "source": [
        "<a href=\"https://colab.research.google.com/github/Anirudh-1606/VITBML-EDA1/blob/master/suicide_stat.ipynb\" target=\"_parent\"><img src=\"https://colab.research.google.com/assets/colab-badge.svg\" alt=\"Open In Colab\"/></a>"
      ]
    },
    {
      "cell_type": "markdown",
      "metadata": {
        "id": "vuNwvTqlsZ3p",
        "colab_type": "text"
      },
      "source": [
        "## **CONTRIBUTORS:**\n",
        "\n",
        "*   S.ANIRUDH - 19PA1A05G0\n",
        "*   T.BHUVANESH - 19PA1A05H8\n",
        "*   S.HARSHA - 19PA1A05G2\n",
        "*   P.ANJALI - 19PA1A05D0\n",
        "\n"
      ]
    },
    {
      "cell_type": "markdown",
      "metadata": {
        "id": "yS8rapHX2Hbk",
        "colab_type": "text"
      },
      "source": [
        "# **Description.**\n"
      ]
    },
    {
      "cell_type": "markdown",
      "metadata": {
        "id": "z0tpLoPz26G3",
        "colab_type": "text"
      },
      "source": [
        "## The dataset is \"WHO Suicide Statistics\"(Suicides in 21st Century).\n",
        "## Basic aggregate numbers covering 1979-2016, by country, year, age groups and sex."
      ]
    },
    {
      "cell_type": "markdown",
      "metadata": {
        "id": "XY7iFBIk4GKB",
        "colab_type": "text"
      },
      "source": [
        "# Now, lets Describe the Variables in our Data:\n",
        "\n",
        "\n",
        "*   # **Country** : This variable describes the country to which the specimen belongs to.\n",
        "\n",
        "\n",
        "*  # **year**: The Time period in which this data is Collected.\n",
        "\n",
        "\n",
        "* # **sex** : The Gender of the specimen.\n",
        "\n",
        "* # **Age Group** : The Age Group of the specimen.\n",
        "\n",
        "* # **Suicide number** : Number of specimens committed suicides in a population\n",
        "\n",
        "* # **Population** : The Number of Living Specimens.\n",
        "\n",
        "\n",
        "\n",
        "\n"
      ]
    },
    {
      "cell_type": "markdown",
      "metadata": {
        "id": "FcpLNyft6nAG",
        "colab_type": "text"
      },
      "source": [
        "## READING DATA:"
      ]
    },
    {
      "cell_type": "code",
      "metadata": {
        "id": "VSYMbLPl2FOt",
        "colab_type": "code",
        "outputId": "a72a00c9-0666-435c-c41a-7a57ea2c0fa9",
        "colab": {
          "base_uri": "https://localhost:8080/",
          "height": 34
        }
      },
      "source": [
        "#Reading Data\n",
        "import pandas as pd\n",
        "from matplotlib import pyplot as plt\n",
        "import seaborn as sns\n",
        "df = pd.read_csv('/who_suicide_statistics.csv')"
      ],
      "execution_count": 0,
      "outputs": [
        {
          "output_type": "stream",
          "text": [
            "(43776, 6)\n"
          ],
          "name": "stdout"
        }
      ]
    },
    {
      "cell_type": "markdown",
      "metadata": {
        "id": "kMgzazACpcdm",
        "colab_type": "text"
      },
      "source": [
        "## **QUESTIONS:**\n",
        "\n",
        "*   What is the shape of your Dataset?\n",
        "*   How do you access the first five data elements from the dataset?\n",
        "*   How do you access the last five data elements from the dataset?\n",
        "*   How do you access a particular data element from the dataset?\n",
        "*   How do you access the 1st, 100th, 1000th rows from the dataset?\n",
        "\n"
      ]
    },
    {
      "cell_type": "code",
      "metadata": {
        "id": "n1fsghJYq06k",
        "colab_type": "code",
        "outputId": "d817ebf7-971b-47ba-f047-a67b6771eab8",
        "colab": {
          "base_uri": "https://localhost:8080/",
          "height": 34
        }
      },
      "source": [
        "#Shape of the dataset\n",
        "print(df.shape)"
      ],
      "execution_count": 0,
      "outputs": [
        {
          "output_type": "stream",
          "text": [
            "(43776, 6)\n"
          ],
          "name": "stdout"
        }
      ]
    },
    {
      "cell_type": "code",
      "metadata": {
        "id": "osb3Sfi9rFbq",
        "colab_type": "code",
        "outputId": "dd4b3840-59f1-476b-d5d9-b5426100a62a",
        "colab": {
          "base_uri": "https://localhost:8080/",
          "height": 122
        }
      },
      "source": [
        "#First five elements of the dataset\n",
        "print(df.head())"
      ],
      "execution_count": 0,
      "outputs": [
        {
          "output_type": "stream",
          "text": [
            "   country  year     sex          age  suicides_no  population\n",
            "0  Albania  1985  female  15-24 years          NaN    277900.0\n",
            "1  Albania  1985  female  25-34 years          NaN    246800.0\n",
            "2  Albania  1985  female  35-54 years          NaN    267500.0\n",
            "3  Albania  1985  female   5-14 years          NaN    298300.0\n",
            "4  Albania  1985  female  55-74 years          NaN    138700.0\n"
          ],
          "name": "stdout"
        }
      ]
    },
    {
      "cell_type": "code",
      "metadata": {
        "id": "a1PkrSBIrOX_",
        "colab_type": "code",
        "outputId": "05f3c3ed-e026-44e8-dc74-46ce0cbf9053",
        "colab": {
          "base_uri": "https://localhost:8080/",
          "height": 122
        }
      },
      "source": [
        "#Last Five elements of the dataset\n",
        "print(df.tail())"
      ],
      "execution_count": 0,
      "outputs": [
        {
          "output_type": "stream",
          "text": [
            "        country  year   sex          age  suicides_no  population\n",
            "43771  Zimbabwe  1990  male  25-34 years        150.0         NaN\n",
            "43772  Zimbabwe  1990  male  35-54 years        132.0         NaN\n",
            "43773  Zimbabwe  1990  male   5-14 years          6.0         NaN\n",
            "43774  Zimbabwe  1990  male  55-74 years         74.0         NaN\n",
            "43775  Zimbabwe  1990  male    75+ years         13.0         NaN\n"
          ],
          "name": "stdout"
        }
      ]
    },
    {
      "cell_type": "code",
      "metadata": {
        "id": "8xTHVPf7rYYK",
        "colab_type": "code",
        "outputId": "8f796f42-f825-48b2-a6a7-a4d884b2a326",
        "colab": {
          "base_uri": "https://localhost:8080/",
          "height": 140
        }
      },
      "source": [
        "#Accessing a particular element say 125\n",
        "print(df.iloc[124])"
      ],
      "execution_count": 0,
      "outputs": [
        {
          "output_type": "stream",
          "text": [
            "country            Albania\n",
            "year                  1995\n",
            "sex                 female\n",
            "age            55-74 years\n",
            "suicides_no              2\n",
            "population          180400\n",
            "Name: 124, dtype: object\n"
          ],
          "name": "stdout"
        }
      ]
    },
    {
      "cell_type": "code",
      "metadata": {
        "id": "p8Yoc1KDrni4",
        "colab_type": "code",
        "outputId": "11296f32-8f05-491a-ec17-2163ba8b6d74",
        "colab": {
          "base_uri": "https://localhost:8080/",
          "height": 87
        }
      },
      "source": [
        "#Accessing the 1st, 100th and 1000th row\n",
        "print(df.iloc[[0,99,999]])"
      ],
      "execution_count": 0,
      "outputs": [
        {
          "output_type": "stream",
          "text": [
            "                 country  year     sex          age  suicides_no  population\n",
            "0                Albania  1985  female  15-24 years          NaN    277900.0\n",
            "99               Albania  1993  female   5-14 years          1.0    340300.0\n",
            "999  Antigua and Barbuda  2009  female   5-14 years          0.0      8514.0\n"
          ],
          "name": "stdout"
        }
      ]
    },
    {
      "cell_type": "markdown",
      "metadata": {
        "id": "MA6v4zYK8IuF",
        "colab_type": "text"
      },
      "source": [
        "## INSIGHTS:"
      ]
    },
    {
      "cell_type": "code",
      "metadata": {
        "id": "t3LWfqRD7W33",
        "colab_type": "code",
        "outputId": "fc11178e-ea21-4693-89ba-65e95f674dc1",
        "colab": {
          "base_uri": "https://localhost:8080/",
          "height": 332
        }
      },
      "source": [
        "age_cater = df.groupby('age')['suicides_no'].mean()\n",
        "plt.style.use('ggplot')\n",
        "age_cater.plot(kind='bar',)\n",
        "plt.show()"
      ],
      "execution_count": 0,
      "outputs": [
        {
          "output_type": "display_data",
          "data": {
            "image/png": "[encoded data removed]",
            "text/plain": [
              "<Figure size 432x288 with 1 Axes>"
            ]
          },
          "metadata": {
            "tags": []
          }
        }
      ]
    },
    {
      "cell_type": "markdown",
      "metadata": {
        "id": "4deXcEWlAhQK",
        "colab_type": "text"
      },
      "source": [
        ""
      ]
    },
    {
      "cell_type": "code",
      "metadata": {
        "id": "qV8qhP4LAV9B",
        "colab_type": "code",
        "outputId": "2f5e2029-904f-43fb-c921-2ef210a736ad",
        "colab": {
          "base_uri": "https://localhost:8080/",
          "height": 299
        }
      },
      "source": [
        "suicide_rate = df.groupby('year')['suicides_no'].mean()\n",
        "suicide_rate.plot()\n",
        "plt.xlabel('Year')\n",
        "plt.ylabel('Sucide Rate')\n",
        "plt.title('SUICIDE RATE')\n",
        "plt.show() "
      ],
      "execution_count": 0,
      "outputs": [
        {
          "output_type": "display_data",
          "data": {
            "image/png": "[encoded data removed]",
            "text/plain": [
              "<Figure size 432x288 with 1 Axes>"
            ]
          },
          "metadata": {
            "tags": []
          }
        }
      ]
    },
    {
      "cell_type": "code",
      "metadata": {
        "id": "naCgg2OoBnCi",
        "colab_type": "code",
        "outputId": "4c0a9848-afc5-4bdd-c35f-b170fd4ac04e",
        "colab": {
          "base_uri": "https://localhost:8080/",
          "height": 248
        }
      },
      "source": [
        "sex_ratio = df.groupby('sex')['suicides_no'].mean()\n",
        "sex_ratio.plot(kind = 'pie',)\n",
        "plt.show()"
      ],
      "execution_count": 31,
      "outputs": [
        {
          "output_type": "display_data",
          "data": {
            "image/png": "[encoded data removed]",
            "text/plain": [
              "<Figure size 432x288 with 1 Axes>"
            ]
          },
          "metadata": {
            "tags": []
          }
        }
      ]
    },
    {
      "cell_type": "code",
      "metadata": {
        "id": "fEDaRCQdExij",
        "colab_type": "code",
        "outputId": "ab9d72d1-ec44-4f1c-b641-c5936cb2fac1",
        "colab": {
          "base_uri": "https://localhost:8080/",
          "height": 281
        }
      },
      "source": [
        "count_pop = df.groupby('country')['population'].mean()\n",
        "count_pop.plot(kind = 'hist',)\n",
        "plt.show()"
      ],
      "execution_count": 0,
      "outputs": [
        {
          "output_type": "display_data",
          "data": {
            "image/png": "[encoded data removed]",
            "text/plain": [
              "<Figure size 432x288 with 1 Axes>"
            ]
          },
          "metadata": {
            "tags": []
          }
        }
      ]
    },
    {
      "cell_type": "markdown",
      "metadata": {
        "id": "HWFh9KihnmSz",
        "colab_type": "text"
      },
      "source": [
        "## OUTLIERS:"
      ]
    },
    {
      "cell_type": "code",
      "metadata": {
        "id": "BO-tE7XzH6Fm",
        "colab_type": "code",
        "outputId": "8dc866d1-70ed-444a-bb89-afaa638a6ecc",
        "colab": {
          "base_uri": "https://localhost:8080/",
          "height": 252
        }
      },
      "source": [
        "ax = sns.boxplot(y = df['suicides_no'])"
      ],
      "execution_count": 0,
      "outputs": [
        {
          "output_type": "display_data",
          "data": {
            "image/png": "[encoded data removed]",
            "text/plain": [
              "<Figure size 432x288 with 1 Axes>"
            ]
          },
          "metadata": {
            "tags": []
          }
        }
      ]
    },
    {
      "cell_type": "markdown",
      "metadata": {
        "id": "ZLppwhGxs5W6",
        "colab_type": "text"
      },
      "source": [
        "## **CONCLUSION:**\n",
        "From the insights, we can conclude that\n",
        "\n",
        "\n",
        "*   The majority of specimens who committed suicide are of 35-54 age group.\n",
        "*   Males are more frequent suicide committters than Females\n",
        "*   Certainly There is drop in Suicide rate from 2000 to 2010, while 1993 has maximum suicide rate.\n",
        "\n"
      ]
    }
  ]
}